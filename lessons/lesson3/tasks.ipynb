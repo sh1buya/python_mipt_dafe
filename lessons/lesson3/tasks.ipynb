{
 "cells": [
  {
   "cell_type": "code",
   "execution_count": 5,
   "metadata": {},
   "outputs": [],
   "source": [
    "from typing import Iterable, Any"
   ]
  },
  {
   "cell_type": "markdown",
   "metadata": {},
   "source": [
    "### Разминка: методы через срезы\n",
    "\n",
    "Значительную часть модифицирующих методов списков можно реализовать через срезы. Ваша задача реализовать аналоги методов append(), extend(), insert(), reverse(), используя только срезы."
   ]
  },
  {
   "cell_type": "code",
   "execution_count": 6,
   "metadata": {},
   "outputs": [
    {
     "name": "stdout",
     "output_type": "stream",
     "text": [
      "[1, 3, 1]\n",
      "[1, 3, 2, 4]\n",
      "[3, 1]\n"
     ]
    }
   ],
   "source": [
    "def my_append(list_instance: list, x: Any) -> None:\n",
    "    list_instance[len(list_instance): len(list_instance)] = [x]\n",
    "\n",
    "a = [1, 3]\n",
    "my_append(a, 1)\n",
    "print(a)\n",
    "\n",
    "\n",
    "def my_extend(list_instance: list, expansion: Iterable) -> None:\n",
    "    # ВАШ КОД\n",
    "        list_instance[len(list_instance): len(list_instance)] = expansion\n",
    "\n",
    "\n",
    "a = [1, 3]\n",
    "b = (2,4)\n",
    "my_extend(a, b)\n",
    "print(a)\n",
    "\n",
    "\n",
    "def my_insert(list_instance: list, i: int, el: Any) -> None:\n",
    "    list_instance[i] = el\n",
    "\n",
    "def my_reverse(list_instance: list) -> None:\n",
    "    list_instance[::] = list_instance[::-1]\n",
    "a = [1, 3]\n",
    "my_reverse(a)\n",
    "print(a)\n"
   ]
  },
  {
   "cell_type": "markdown",
   "metadata": {},
   "source": [
    "### Задача 1: Сложение\n",
    "\n",
    "На вход подаются два списка, репрезентирующие числа в десятичной системе счисления. Элементы списков - числа от 0 до 9, представляющие значения разрядов числа. Самый левый разряд - самый больший. Т.е. число 123 будет представлено списком [1, 2, 3]. Ваша задача - вычислить сумму переданных чисел и вернуть список, представляюзщий эту сумму. "
   ]
  },
  {
   "cell_type": "code",
   "execution_count": 4,
   "metadata": {},
   "outputs": [],
   "source": [
    "def sum_two_nums(num1: list[int], num2: list[int]) -> list[int]:\n",
    "    num1 = num1[::-1]\n",
    "    num2 = num2[::-1]\n",
    "\n",
    "    a = 0\n",
    "    for i in range(len(num1)):\n",
    "        a+=num1[i] * 10**i\n",
    "    b = 0\n",
    "    for i in range(len(num2)):\n",
    "        b+=num2[i] * 10**i\n",
    "    n = int(a) + int(b)\n",
    "\n",
    "    ans = []\n",
    "    while n>0:\n",
    "        ans.append(n%10)\n",
    "        n//=10\n",
    "\n",
    "    ans = ans[::-1]\n",
    "    return ans"
   ]
  },
  {
   "cell_type": "markdown",
   "metadata": {},
   "source": [
    "**Тесты:**"
   ]
  },
  {
   "cell_type": "code",
   "execution_count": 5,
   "metadata": {},
   "outputs": [],
   "source": [
    "num1 = [1, 2, 3]\n",
    "num2 = [7, 7]\n",
    "\n",
    "assert sum_two_nums(num1, num2) == [2, 0, 0]\n",
    "assert sum_two_nums(num2, num1) == [2, 0, 0]"
   ]
  },
  {
   "cell_type": "markdown",
   "metadata": {},
   "source": [
    "### Задача 2: Объеденяй и не властвуй\n",
    "\n",
    "На вход подан список intervals, где intervals[ i ] = [$start_i$, $stop_i$]. Объедените все пересекающиеся интервалы и верните список непересекающихся интервалов, покрывающий все интервалы из intervals."
   ]
  },
  {
   "cell_type": "code",
   "execution_count": 9,
   "metadata": {},
   "outputs": [],
   "source": [
    "def merge_intervals(intervals: list[list[int]]) -> list[list[int]]:\n",
    "    intervals = sorted(intervals, key = lambda x: (x[0], x[1]))\n",
    "    ans = []\n",
    "    skip_next = False\n",
    "    for i in range(len(intervals) - 1):\n",
    "        if skip_next == False:\n",
    "            if intervals[i][1] >= intervals[i+1][0]:\n",
    "                ans.append([intervals[i][0], intervals[i+1][1]])\n",
    "                skip_next = True\n",
    "            else:\n",
    "                ans.append(intervals[i])\n",
    "        else:\n",
    "            skip_next = False\n",
    "    last = intervals[-1]\n",
    "    if last[0] <= ans[-1][1]:\n",
    "        ans[-1] = [ans[-1][0], last[-1]]\n",
    "    else:\n",
    "        ans.append(last)\n",
    "    return ans\n",
    "    "
   ]
  },
  {
   "cell_type": "markdown",
   "metadata": {},
   "source": [
    "**Тесты:**"
   ]
  },
  {
   "cell_type": "code",
   "execution_count": 10,
   "metadata": {},
   "outputs": [
    {
     "name": "stdout",
     "output_type": "stream",
     "text": [
      "[[1, 6], [8, 10], [15, 18]]\n"
     ]
    }
   ],
   "source": [
    "intervals = [[1,3],[2,6],[8,10],[15,18]]\n",
    "print(merge_intervals(intervals))\n",
    "assert merge_intervals(intervals) == [[1,6],[8,10],[15,18]]"
   ]
  },
  {
   "cell_type": "markdown",
   "metadata": {},
   "source": [
    "### Задача 3: Удалим дубликаты\n",
    "\n",
    "Дан список nums, отсортированный в неубывающем порядке. Ваша задача удалить дублирующиеся элементы **на месте** так, чтобы каждый уникальный элемент массива имел лишь одно вхождение. При этом относительный порядок следования элементов должен остаться без изменений."
   ]
  },
  {
   "cell_type": "code",
   "execution_count": 11,
   "metadata": {},
   "outputs": [],
   "source": [
    "def remove_duplicates(nums: list[int]) -> None:\n",
    "    nums[:] = sorted(list(set(nums)))"
   ]
  },
  {
   "cell_type": "markdown",
   "metadata": {},
   "source": [
    "**Тесты:**"
   ]
  },
  {
   "cell_type": "code",
   "execution_count": 12,
   "metadata": {},
   "outputs": [],
   "source": [
    "nums = [1, 1, 2]\n",
    "\n",
    "remove_duplicates(nums)\n",
    "assert nums == [1, 2]"
   ]
  },
  {
   "cell_type": "markdown",
   "metadata": {},
   "source": [
    "### Задача 4: Уникальные пути\n",
    "\n",
    "Вам дано двумерное поле размера m X n. В левом верхнем углу (grid[0][0]) расположен робот. Робот старается добраться до правого нижнего угла (grid[-1][-1]). Робот может ходить только вниз или вправо. \n",
    "\n",
    "Свободные клетки и препятствия помечены в массиве grid 0 и 1 соответственно. Пути робот из верхнего левого угла в правый нижний угол могут проходить только через свободные клетки. \n",
    "\n",
    "Ваша задача - вычислить максимальное возможное количество уникальных путей из левого верхнего угла в правый нижний угол."
   ]
  },
  {
   "cell_type": "code",
   "execution_count": 28,
   "metadata": {},
   "outputs": [],
   "source": [
    "def compute_unique_pathes(grid:list[list[int]]) -> int:\n",
    "    copy = grid[:]\n",
    "    \n",
    "    for i in range(len(copy)):\n",
    "        for j in range(len(copy[i])):\n",
    "            if copy[i][j] == 1:\n",
    "                copy[i][j] = \"r\"\n",
    "    if copy[0][0] == 'r' or copy[-1][-1] == 'r':\n",
    "        return 0\n",
    "    copy[0][0]=1\n",
    "    for i in range(len(copy)):\n",
    "        for j in range(len(copy[i])):\n",
    "            if copy[i][j] != 'r':\n",
    "                if i!=0 and j!=0:\n",
    "                    if copy[i-1][j] != \"r\":\n",
    "                        copy[i][j] += copy[i-1][j] \n",
    "                    if copy[i][j-1] !=\"r\":\n",
    "                        copy[i][j] += copy[i][j-1]\n",
    "                if i==0 and j!=0 and copy[i][j-1] != \"r\":\n",
    "                    copy[i][j] += copy[i][j-1]\n",
    "                if i!=0 and j==0 and copy[i-1][j] != \"r\":\n",
    "                    copy[i][j] += copy[i-1][j]\n",
    "    return copy[-1][-1]"
   ]
  },
  {
   "cell_type": "markdown",
   "metadata": {},
   "source": [
    "**Тесты:**"
   ]
  },
  {
   "cell_type": "code",
   "execution_count": 29,
   "metadata": {},
   "outputs": [
    {
     "name": "stdout",
     "output_type": "stream",
     "text": [
      "4\n"
     ]
    }
   ],
   "source": [
    "grid = [\n",
    "    [0, 0, 0],\n",
    "    [0, 1, 0],\n",
    "    [0, 0, 0]\n",
    "]\n",
    "\n",
    "assert compute_unique_pathes(grid) == 2"
   ]
  },
  {
   "cell_type": "markdown",
   "metadata": {},
   "source": [
    "### Задача 5: Игра в прыжки\n",
    "\n",
    "Вам дан список jumps, состоящий из целых чисел, индексирующийся с нуля и имеющий длину n. Вы начинаете движение с позиции jumps[0]. Каждый элемент списка jumps[i] представляет собой длину максимального прыжка вперед с позиции i: если вы находитесь в позиции i, вы можете прыжком переместиться на любую позицию от i до i + jumps[i].\n",
    "\n",
    "Ваша задача - определить минимальное число прыжков, необходимое для достижения позиции n - 1."
   ]
  },
  {
   "cell_type": "code",
   "execution_count": 25,
   "metadata": {},
   "outputs": [],
   "source": [
    "ans = []\n",
    "def jump(jumps: list[int], n) -> int:\n",
    "    global ans\n",
    "    a = jumps[0]\n",
    "    if len(jumps) == 1:\n",
    "        ans.append(n)\n",
    "        return 0\n",
    "\n",
    "    for i in range(1, a+1):\n",
    "        new_jumps = jumps[i:]\n",
    "        return jump(new_jumps, n+1)"
   ]
  },
  {
   "cell_type": "markdown",
   "metadata": {},
   "source": [
    "**Тесты:**"
   ]
  },
  {
   "cell_type": "code",
   "execution_count": 26,
   "metadata": {},
   "outputs": [
    {
     "name": "stdout",
     "output_type": "stream",
     "text": [
      "[4]\n"
     ]
    }
   ],
   "source": [
    "jumps = [2,3,1,1,4]\n",
    "jump(jumps, 0)\n",
    "print(ans)\n",
    "# assert jump(jumps) == 2"
   ]
  }
 ],
 "metadata": {
  "kernelspec": {
   "display_name": "Python 3",
   "language": "python",
   "name": "python3"
  },
  "language_info": {
   "codemirror_mode": {
    "name": "ipython",
    "version": 3
   },
   "file_extension": ".py",
   "mimetype": "text/x-python",
   "name": "python",
   "nbconvert_exporter": "python",
   "pygments_lexer": "ipython3",
   "version": "3.10.8"
  },
  "orig_nbformat": 4
 },
 "nbformat": 4,
 "nbformat_minor": 2
}
