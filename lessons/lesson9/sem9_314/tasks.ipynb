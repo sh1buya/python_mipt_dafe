{
 "cells": [
  {
   "cell_type": "markdown",
   "metadata": {},
   "source": [
    "# Функции: избранные темы"
   ]
  },
  {
   "cell_type": "markdown",
   "id": "b0b60028",
   "metadata": {},
   "source": [
    "## Вступление: контекстные менеджеры\n",
    "\n",
    "В Python по умолчанию задана некоторая точность вычисления чисел с плавающей точкой, которая, что логично, может отличаться от требуемой для решения конкретной задачи точности. Для пример, будет рассматривать точность вычислений в библиотеке **decimal**.\n",
    "\n",
    "Предположим, нас устраивает точность вычислений по умолчанию в этой библиотеке, но для некоторых расчетов мы бы хотели использовать повышенную или пониженную точность и только для них. Как нам быть? Тут-то нам на помощь и придут контекстные менеджеры.\n",
    "\n",
    "В этом примере мы поговорим о контекстных менеджерах и напишем свой менеджер для установки точности вычислений, которые будет работать примерно так:\n",
    "\n",
    "```python\n",
    "with set_precision(5):\n",
    "    ...\n",
    "```"
   ]
  },
  {
   "cell_type": "code",
   "execution_count": 32,
   "id": "2ee4bd58",
   "metadata": {},
   "outputs": [
    {
     "name": "stdout",
     "output_type": "stream",
     "text": [
      "1.6667\n"
     ]
    }
   ],
   "source": [
    "from decimal import Decimal, getcontext\n",
    "from contextlib import contextmanager\n",
    "\n",
    "\n",
    "# наш код\n",
    "@contextmanager\n",
    "def set_precision(n: int):\n",
    "    ## start\n",
    "    start_prec = getcontext().prec\n",
    "    getcontext().prec = n\n",
    "    try:\n",
    "        yield             # = next\n",
    "    finally:\n",
    "        getcontext().prec = start_prec\n",
    "        ## end\n",
    "\n",
    "with set_precision(5):\n",
    "    print(Decimal(5) / Decimal(3))\n",
    "\n",
    "# __start__\n",
    "# __next__\n",
    "# __stop__"
   ]
  },
  {
   "cell_type": "markdown",
   "id": "47c5cd4e",
   "metadata": {},
   "source": [
    "## Разминка: геометрическая прогрессия\n",
    "\n",
    "Напишите бесконечный генератор геометрической прогрессии. В качестве параметров генератор должен принимать:  \n",
    "- первый член прогрессии\n",
    "- шаг прогрессии"
   ]
  },
  {
   "cell_type": "code",
   "execution_count": 4,
   "id": "1322283c",
   "metadata": {},
   "outputs": [
    {
     "name": "stdout",
     "output_type": "stream",
     "text": [
      "1\n",
      "2\n",
      "4\n",
      "8\n",
      "16\n",
      "32\n",
      "64\n",
      "128\n",
      "256\n",
      "512\n"
     ]
    }
   ],
   "source": [
    "from typing import Generator\n",
    "# ваш код\n",
    "\n",
    "def geom_progr(start = 1, step = 2) -> Generator:\n",
    "    curr = start\n",
    "    while True:\n",
    "        yield curr\n",
    "        curr *= step\n",
    "\n",
    "\n",
    "my_geom_progr = geom_progr()\n",
    "\n",
    "for i in range(10):\n",
    "    print(next(my_geom_progr))\n",
    "    # next(my_geom_progr)"
   ]
  },
  {
   "cell_type": "markdown",
   "id": "1b317e5a",
   "metadata": {},
   "source": [
    "## Задание 1: float_range\n",
    "\n",
    "Необходимо создать аналог range(), который генерирует арифметическую прогрессию. Ниже приведены примеры использования:\n",
    "\n",
    "*Пример 1*:\n",
    "\n",
    "```python\n",
    "for i in float_range(stop=5):\n",
    "    print(i)\n",
    "```\n",
    "\n",
    "*Вывод*:\n",
    "```console\n",
    "0\n",
    "1\n",
    "2\n",
    "3\n",
    "4\n",
    "```\n",
    "___\n",
    "*Пример 2*:\n",
    "\n",
    "```python\n",
    "for i in float_range(stop=1, step=0.5):\n",
    "    print(i)\n",
    "```\n",
    "\n",
    "*Вывод*:\n",
    "```console\n",
    "0\n",
    "0.5\n",
    "```\n",
    "___\n",
    "*Пример 3*:\n",
    "\n",
    "```python\n",
    "for i in float_range(start=1, stop=-1, step=-0.5):\n",
    "    print(i)\n",
    "```\n",
    "\n",
    "*Вывод*:\n",
    "```console\n",
    "1\n",
    "0.5\n",
    "0\n",
    "-0.5\n",
    "```"
   ]
  },
  {
   "cell_type": "code",
   "execution_count": 73,
   "id": "c118dd7f",
   "metadata": {},
   "outputs": [
    {
     "name": "stdout",
     "output_type": "stream",
     "text": [
      "0\n",
      "1\n",
      "2\n",
      "3\n",
      "4\n",
      "5\n",
      "\n",
      "0\n",
      "0.5\n",
      "1.0\n",
      "\n"
     ]
    }
   ],
   "source": [
    "def float_range(start = 0, stop = 10, step = 1):\n",
    "    curr = start\n",
    "    while True:\n",
    "        if (curr <=stop and step > 0) or (curr >= stop and step <0):\n",
    "            yield curr\n",
    "            curr += step  \n",
    "        else:\n",
    "            return    \n",
    "  \n",
    "for i in float_range(stop=5):\n",
    "    print(i)\n",
    "\n",
    "print()\n",
    "\n",
    "for i in float_range(stop=1, step=0.5):\n",
    "    print(i)\n",
    "\n",
    "print()\n",
    "\n",
    "for i in float_range(start = 1, stop=-1, step=0):\n",
    "    print(i)"
   ]
  },
  {
   "cell_type": "markdown",
   "id": "0e50efe0",
   "metadata": {},
   "source": [
    "## Задание 2: свой map"
   ]
  },
  {
   "cell_type": "markdown",
   "id": "90231b0d",
   "metadata": {},
   "source": [
    "### Часть 1: копируем map\n",
    "\n",
    "Реализуйте аналог функции map, полностью копирующий ее поведение. Саму map использовать нельзя."
   ]
  },
  {
   "cell_type": "code",
   "execution_count": 75,
   "id": "121c0d82",
   "metadata": {},
   "outputs": [
    {
     "name": "stdout",
     "output_type": "stream",
     "text": [
      "[1, 4, 9, 16, 25]\n",
      "[1, 1, 1, 1, 1]\n",
      "1\n",
      "4\n",
      "9\n",
      "16\n",
      "25\n"
     ]
    }
   ],
   "source": [
    "# ваш код\n",
    "\n",
    "# def my_map(func, *s:list) -> list:\n",
    "#     ans = []\n",
    "#     for i in range(min([len(_) for _ in s])):\n",
    "#         needed_elems = []\n",
    "#         for spis in s:\n",
    "#             curr = spis[i]\n",
    "#             needed_elems.append(curr)\n",
    "#         ans.append(func(*needed_elems))\n",
    "#     return ans\n",
    "\n",
    "def my_map(func, *s:list) -> list:\n",
    "    ans = []\n",
    "    for i in zip(*s):\n",
    "        \n",
    "        ans.append(func(*i))\n",
    "    return ans\n",
    "s = [1,2,3,4,5]\n",
    "\n",
    "kv_s = my_map(lambda x: x**2, s)\n",
    "print(kv_s)\n",
    "\n",
    "s1 = [2,3,4,5,6]\n",
    "\n",
    "razn = my_map(lambda x, y: x-y, s1, s)\n",
    "print(razn)\n",
    "\n",
    "for i in kv_s:\n",
    "    print(i)\n",
    "\n"
   ]
  },
  {
   "cell_type": "markdown",
   "id": "577e35fc",
   "metadata": {},
   "source": [
    "### Часть 2: дополняем map\n",
    "\n",
    "Добавьте возможность управлять поведением вашего map'a: сделайте так, чтобы map имела возможность не только обрезать последовательности, но и дополнять короткие последовательности до динных. \n",
    "\n",
    "Совет: функция **zip_longest** из библиотеки **itertools** может оказаться полезной."
   ]
  },
  {
   "cell_type": "code",
   "execution_count": 62,
   "id": "0f930faa",
   "metadata": {},
   "outputs": [],
   "source": [
    "from enum import Enum\n",
    "from itertools import zip_longest\n",
    "\n",
    "\n",
    "class MapTypes(Enum):\n",
    "    SHORTEST = 'short'\n",
    "    LONGEST = 'long'\n"
   ]
  },
  {
   "cell_type": "code",
   "execution_count": 117,
   "id": "49b53ae5",
   "metadata": {},
   "outputs": [
    {
     "name": "stdout",
     "output_type": "stream",
     "text": [
      "1\n",
      "4\n",
      "9\n",
      "16\n"
     ]
    }
   ],
   "source": [
    "def my_map2(func, *s:list, map_type=MapTypes.SHORTEST) -> Generator:\n",
    "    ans = []\n",
    "\n",
    "    if map_type == MapTypes.SHORTEST:\n",
    "        for i in zip(*s):\n",
    "            yield func(*i)\n",
    "    elif map_type == MapTypes.LONGEST:\n",
    "        for i in zip_longest(*s):\n",
    "            yield func(*i)\n",
    "\n",
    "s = [1,2,3,4]\n",
    "\n",
    "# kv_s = my_map2(lambda x: x**2, s)\n",
    "# print(kv_s)\n",
    "\n",
    "s1 = [2,3,4,5,6]\n",
    "\n",
    "# razn = my_map2(lambda x, y: x-y, s1, s)\n",
    "# print(razn)\n",
    "\n",
    "# razn = my_map2(lambda x, y: x-y, s1, s, map_type=MapTypes.LONGEST)\n",
    "# print(razn)\n",
    "m = my_map2(lambda x:x**2, s)\n",
    "for i in range(4):\n",
    "    print(next(m))\n"
   ]
  },
  {
   "cell_type": "markdown",
   "id": "1ef76164",
   "metadata": {},
   "source": [
    "## Задание 3: Спиннер"
   ]
  },
  {
   "cell_type": "markdown",
   "id": "a79e62a0",
   "metadata": {},
   "source": [
    "### Часть 1: генератор\n",
    "\n",
    "Напишите функцию, которая на вход получает коллекцию и возвращает генератор, последовательно возвращающий элементы коллекции, а после возврата последнего элемента коллекции очередной вызов генератора приведет к зацикливанию.\n",
    "\n",
    "\n",
    "*Пример*:\n",
    "\n",
    "```python\n",
    "generator = generate_circle('abc')\n",
    "\n",
    "print(next(generator))\n",
    "print(next(generator))\n",
    "print(next(generator))\n",
    "print(next(generator))\n",
    "print(next(generator))\n",
    "```\n",
    "*Вывод*:\n",
    "```console\n",
    "a\n",
    "b\n",
    "c\n",
    "a\n",
    "b\n",
    "```"
   ]
  },
  {
   "cell_type": "code",
   "execution_count": 84,
   "id": "5b1d7d33",
   "metadata": {},
   "outputs": [
    {
     "name": "stdout",
     "output_type": "stream",
     "text": [
      "a\n",
      "b\n",
      "c\n",
      "a\n",
      "a\n",
      "b\n",
      "c\n",
      "a\n",
      "a\n",
      "b\n"
     ]
    }
   ],
   "source": [
    "def generate_circle(s:str) -> Generator:\n",
    "    curr = 0\n",
    "    while True:\n",
    "        if curr<len(s):\n",
    "            yield s[curr]\n",
    "            curr += 1  \n",
    "        else:\n",
    "            curr = 0\n",
    "            yield s[curr]\n",
    "\n",
    "g = generate_circle(\"abc\")\n",
    "for i in range(10):\n",
    "    print(next(g))"
   ]
  },
  {
   "cell_type": "markdown",
   "id": "7eff66b3",
   "metadata": {},
   "source": [
    "### Часть 2: Колесо Сансары\n",
    "\n",
    "Используя генератор из предыдущего раздела, реализуйте функцию, которая отображает на экране спиннер для индикации загрузки.\n",
    "\n",
    "Отрисовка спиннера печатает на экран надпись: Thinking: \\<symbol\\>, где вместо \\<symbol\\> последовательно появляются знаки: \\, |, /, -, что создаёт эффект вращения.\n",
    "\n",
    "Вход функции: \n",
    "- time_limit - время (в секундах), в течение которого должна производиться отрисовка спиннера;\n",
    "- pause - время (в секундах) задержки между сменой символов спиннера;\n",
    "\n",
    "Интересная статья на тему индикаторов: https://dtf.ru/flood/174240-progress-bar-ili-spinner-chto-i-kogda-ispolzovat?ysclid=lorrg51syv550654720"
   ]
  },
  {
   "cell_type": "code",
   "execution_count": 126,
   "id": "eb84de3b",
   "metadata": {},
   "outputs": [
    {
     "name": "stdout",
     "output_type": "stream",
     "text": [
      "thinking: |"
     ]
    }
   ],
   "source": [
    "import time\n",
    "import os\n",
    "\n",
    "def generate_circle(time_limit, pause) -> Generator:\n",
    "    s = '\\|/-'\n",
    "    curr = 0\n",
    "    timee = pause\n",
    "    while timee<=time_limit:\n",
    "        if curr<len(s):\n",
    "            time.sleep(pause)\n",
    "            yield s[curr]\n",
    "            curr += 1  \n",
    "            timee+=pause\n",
    "        else:\n",
    "            curr = 0\n",
    "\n",
    "            time.sleep(pause)\n",
    "\n",
    "            yield s[curr]\n",
    "            curr+=1\n",
    "            timee+=pause\n",
    "    return\n",
    "\n",
    "for i in generate_circle(10,1):\n",
    "    print(f\"\\rthinking: {i}\", end = \"\")\n"
   ]
  },
  {
   "cell_type": "code",
   "execution_count": 100,
   "id": "73653b1b",
   "metadata": {},
   "outputs": [
    {
     "name": "stdout",
     "output_type": "stream",
     "text": [
      "\\"
     ]
    }
   ],
   "source": []
  }
 ],
 "metadata": {
  "kernelspec": {
   "display_name": "Python 3 (ipykernel)",
   "language": "python",
   "name": "python3"
  },
  "language_info": {
   "codemirror_mode": {
    "name": "ipython",
    "version": 3
   },
   "file_extension": ".py",
   "mimetype": "text/x-python",
   "name": "python",
   "nbconvert_exporter": "python",
   "pygments_lexer": "ipython3",
   "version": "3.10.8"
  },
  "toc": {
   "base_numbering": 1,
   "nav_menu": {},
   "number_sections": true,
   "sideBar": true,
   "skip_h1_title": false,
   "title_cell": "Table of Contents",
   "title_sidebar": "Contents",
   "toc_cell": false,
   "toc_position": {},
   "toc_section_display": true,
   "toc_window_display": false
  }
 },
 "nbformat": 4,
 "nbformat_minor": 5
}
