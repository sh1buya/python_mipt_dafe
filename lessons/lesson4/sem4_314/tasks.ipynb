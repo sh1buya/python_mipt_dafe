{
 "cells": [
  {
   "cell_type": "markdown",
   "metadata": {},
   "source": [
    "# Семинар: строки"
   ]
  },
  {
   "cell_type": "markdown",
   "metadata": {},
   "source": [
    "## Разминка\n",
    "\n",
    "Реализовать две функции: первая удаляет все цифры в строке, вторая - все буквы."
   ]
  },
  {
   "cell_type": "code",
   "execution_count": 1,
   "metadata": {},
   "outputs": [],
   "source": [
    "def delete_digits(string: str) -> str:\n",
    "    new_string = ''\n",
    "    for i in string:\n",
    "        if i.isalpha():\n",
    "            new_string += i\n",
    "    return new_string\n",
    "\n",
    "\n",
    "def delete_letters(string: str) -> str:\n",
    "    new_string = ''\n",
    "    for i in string:\n",
    "        if i.isdigit():\n",
    "            new_string += i\n",
    "    return new_string"
   ]
  },
  {
   "cell_type": "markdown",
   "metadata": {},
   "source": [
    "**Тесты**:"
   ]
  },
  {
   "cell_type": "code",
   "execution_count": 2,
   "metadata": {},
   "outputs": [],
   "source": [
    "assert delete_digits('123abnd4FDhj32') == 'abndFDhj'\n",
    "assert delete_letters('123abnd4FDhj32') == '123432'"
   ]
  },
  {
   "cell_type": "markdown",
   "metadata": {},
   "source": [
    "## Задача 1: Наивный Шифр\n",
    "\n",
    "**Условие**:\n",
    "\n",
    "Мы решили зашифровать слово, состоящее из букв английского алфавита в нижнем регистре. Но поскольку наши познания в криптографии невелики для шифрования решено было использовать один из самых простых шифров: перестановка над английским алфавитом. Перестановка записывается следующим образом: заполняется список из 26 элементов; номер ячейки соответствует номеру буквы в полученной перестановке; содержимое ячейки - ASCII код буквы. Ваша задача - реализовать алгоритм, который будет шифровывать заданное слово по заданной перестановке.\n",
    "\n",
    "**Вход**:\n",
    "- word - строка, состоящая только из букв англиского алфавита в нижнем регистре;  \n",
    "- permutation - список, состоящий из 26 элементов; содержимое списка - ASCII-коды букв английского алфавита в нижнем регистре;\n",
    "\n",
    "**Выход**:\n",
    "\n",
    "- зашифрованное слово - строка;\n",
    "\n",
    "**Решение:**"
   ]
  },
  {
   "cell_type": "code",
   "execution_count": 56,
   "metadata": {},
   "outputs": [],
   "source": [
    "def encode(word: str, permutation: list[int]) -> str:    \n",
    "    new_word = \"\"\n",
    "    # print(ord(\"a\"), chr(122)\"\n",
    "    for i in word:\n",
    "        num = ord(i) - 97\n",
    "        new_num = permutation[num]\n",
    "        new_word += chr(new_num)\n",
    "    return new_word"
   ]
  },
  {
   "cell_type": "markdown",
   "metadata": {},
   "source": [
    "**Тесты**:"
   ]
  },
  {
   "cell_type": "code",
   "execution_count": 57,
   "metadata": {},
   "outputs": [
    {
     "data": {
      "text/plain": [
       "'zlllz'"
      ]
     },
     "execution_count": 57,
     "metadata": {},
     "output_type": "execute_result"
    }
   ],
   "source": [
    "permutation = [\n",
    "    122, 108, 99, 100, 101, 102, 103, 104, 105,\n",
    "    106, 107, 108, 109, 110, 108, 112, 113, 114,\n",
    "    115, 116, 117, 118, 119, 120, 121, 97\n",
    "]\n",
    "\n",
    "word = 'aboba'\n",
    "\n",
    "# assert 'zbobz' == encode(word, permutation)\n",
    "encode(word, permutation)"
   ]
  },
  {
   "cell_type": "markdown",
   "metadata": {},
   "source": [
    "**Объяснение:** в перестановке мы переставили буквы 'a' и 'z' местами."
   ]
  },
  {
   "cell_type": "markdown",
   "metadata": {},
   "source": [
    "## Задача 2: Переставь слова\n",
    "\n",
    "**Условие**:\n",
    "\n",
    "Дана последовательность символов: строка, состоящая из заглавных и строчных букв английского алфавита, знаков препинания и пробелов. Причем, строка составлена не самым грамотным пользователем, а потому количество пробелов между непробельными символами может быть произвольным. Также неисключено наличие пробелов в начале и в конце строки. Необходимо найти самое длинное слово в строке, самое короткое слово в строке и поменять их местами. В качестве ответа вернуть строку с переставленными словами. Пробелы между словами, а также в начале и конце строки необходимо оставить нетронутыми.\n",
    "\n",
    "Если слов одинковой длины несколько, необходимо взять первое встретевшееся.\n",
    "\n",
    "*Примечание*: словом считается любая последовательность символов, не содержащая пробелов.\n",
    "\n",
    "**Вход**:\n",
    "\n",
    "- строка, состоящая из букв английского алфавита, знаков препинания и пробелов;  \n",
    "\n",
    "**Выход:**\n",
    "\n",
    "- строка, в которой самое длинное слово и самое короткое слово переставлены;  \n",
    "\n",
    "**Решение**:"
   ]
  },
  {
   "cell_type": "code",
   "execution_count": 59,
   "metadata": {},
   "outputs": [],
   "source": [
    "import string\n",
    "\n",
    "def swap_words(sentence: str) -> str:\n",
    "    alph = string.ascii_letters\n",
    "    spis = []\n",
    "\n",
    "    slovo = ''\n",
    "    for i in range (len(sentence)):\n",
    "        if sentence[i].isalpha():\n",
    "            slovo += sentence[i]\n",
    "        else:\n",
    "            if slovo:\n",
    "                spis.append(slovo)\n",
    "            spis.append(sentence[i])\n",
    "            slovo = ''\n",
    "    if slovo:\n",
    "            spis.append(slovo)\n",
    "\n",
    "    max_len = -99999999\n",
    "    min_len = 999999999\n",
    "    for i in spis:\n",
    "         if i.isalpha():\n",
    "              max_len = max(max_len, len(i))\n",
    "              min_len = min(min_len, len(i))\n",
    "    for i in spis:\n",
    "         if len(i) == max_len and i.isalpha():\n",
    "              max_i = i\n",
    "              break\n",
    "    for i in spis:\n",
    "        if len(i) == min_len and i.isalpha():\n",
    "            min_i = i\n",
    "            break\n",
    "    \n",
    "    new_spis = []\n",
    "    flag_min_used = False\n",
    "    flag_max_used = False\n",
    "    for i in spis:\n",
    "        if i == min_i  and flag_max_used == False:\n",
    "            new_spis.append(max_i)\n",
    "            flag_max_used = True\n",
    "        elif i == max_i and flag_min_used == False:\n",
    "            new_spis.append(min_i)\n",
    "            flag_min_used = True\n",
    "        else:\n",
    "            new_spis.append(i)\n",
    "  \n",
    "    return \"\".join(new_spis)\n",
    "\n",
    "\n",
    "\n",
    "    \n",
    "\n"
   ]
  },
  {
   "cell_type": "markdown",
   "metadata": {},
   "source": [
    "**Тесты:**"
   ]
  },
  {
   "cell_type": "code",
   "execution_count": 60,
   "metadata": {},
   "outputs": [
    {
     "name": "stdout",
     "output_type": "stream",
     "text": [
      " bbb b  c   dd  a\n"
     ]
    }
   ],
   "source": [
    "# print(swap_words(' a b  c   dd  '))\n",
    "assert ' dd b  c   a  ' == swap_words(' a b  c   dd  ')\n",
    "print(swap_words(' a b  c   dd  bbb'))"
   ]
  },
  {
   "cell_type": "markdown",
   "metadata": {},
   "source": [
    "## Задача 3: Правильная скобочная последовательность\n",
    "\n",
    "**Условие**:\n",
    "\n",
    "Правильная скобочная последовательность определяется следующим образом:\n",
    "\n",
    "- пустая строка - правильная скобочная последовательность;  \n",
    "- правильная скобочная последовательность, взятая в круглые скобки - правильная скобочная последовательность;  \n",
    "- правильная скобочная последовательность, к которой приписана слева или справа правильная скобочная последовательность — правильная скобочная последовательность;\n",
    "\n",
    "Итак, на вход подается строка, состоящая только из символов \"(\", \")\". Ваша задача - определить является ли поданная строка правильной скобочной последовательностью или нет.\n",
    "\n",
    "**Вход**:\n",
    "\n",
    "- sequence - строка, состоящая из круглых скобок;\n",
    "\n",
    "**Выход**:\n",
    "\n",
    "- булево значение, True, если строка - правильная скобочная последовательность, False - иначе;\n",
    "\n",
    "**Решение**:"
   ]
  },
  {
   "cell_type": "code",
   "execution_count": 61,
   "metadata": {},
   "outputs": [],
   "source": [
    "def is_correct_bracket_seq(sequence: str) -> bool:\n",
    "    if len(sequence) == 0:\n",
    "        return True\n",
    "    # open = 0\n",
    "    # close = 0\n",
    "    # for i in sequence:\n",
    "    #     if i == \"(\":\n",
    "    #         open +=1\n",
    "    #     else:\n",
    "    #         close +=1\n",
    "    # if open != close:\n",
    "    #     return False\n",
    "    if sequence.count(\"(\") != sequence.count(\")\"):\n",
    "        return False\n",
    "    \n",
    "    spis = []\n",
    "    for i in sequence:\n",
    "        spis.append(i)\n",
    "    while \"()\" in \"\".join(spis):\n",
    "        for i in range(len(spis) - 1):\n",
    "            if spis[i] == \"(\" and spis[i+1] == \")\":\n",
    "                spis.remove(spis[i])\n",
    "                spis.remove(spis[i])\n",
    "                break\n",
    "    if len(spis) == 0:\n",
    "        return True\n",
    "    else:\n",
    "        return False"
   ]
  },
  {
   "cell_type": "markdown",
   "metadata": {},
   "source": [
    "**Тесты**:"
   ]
  },
  {
   "cell_type": "code",
   "execution_count": 62,
   "metadata": {},
   "outputs": [],
   "source": [
    "assert is_correct_bracket_seq('')\n",
    "assert is_correct_bracket_seq('()()')\n",
    "assert not is_correct_bracket_seq('(((()))(')"
   ]
  },
  {
   "cell_type": "markdown",
   "metadata": {},
   "source": [
    "## Задача 4: Странный калькулятор\n",
    "\n",
    "**Условие**:\n",
    "\n",
    "Назовем странным калькулятором калькулятор, который работает следующим образом:\n",
    "\n",
    "- на вход калькулятору подается строка, в которой описано некоторое алгебраическое выражение;  \n",
    "- операндами этого выражения являются исключительно целые числа, записанные в следующей форме: каждая цифра числа записана английским словом, обозначающим эту цифру; сами цифры, составляющие запись числа, записаны подряд. Например число десять будет иметь запись `onezero`;  \n",
    "- в состав строки входят только операторы сложения и умножения;  \n",
    "- операнды и операторы разделены пробелами;  \n",
    "- калькулятор вычисляет описанное таким образом выражение и вызвращает результат - целое число;   \n",
    "\n",
    "Ваша задача реализовать такой калькулятор.\n",
    "\n",
    "**Вход**:\n",
    "\n",
    "- строка, состоящая из слов 'zero', 'one', 'two', 'three', 'four', 'five', 'six', 'seven', 'eight', 'nine', символов '+' и '-' и пробелов;  \n",
    "\n",
    "**Выход**:\n",
    "\n",
    "- целое число - результат выполнения выражения;\n",
    "\n",
    "**Решение**:"
   ]
  },
  {
   "cell_type": "code",
   "execution_count": 63,
   "metadata": {},
   "outputs": [],
   "source": [
    "def calculate(expression: str) -> int:\n",
    "    spis = expression.split()\n",
    "    new_spis = []\n",
    "    for i in spis:\n",
    "        if len(i) > 1 and i[0] == \"-\":\n",
    "            new_spis.append (\"-\")\n",
    "            new_spis.append(i[1:])\n",
    "        else:\n",
    "            new_spis.append(i)\n",
    "    # print(new_spis)\n",
    "\n",
    "    expr = \"\"\n",
    "    for i in new_spis:\n",
    "        if i == \"-\" or i ==\"+\":\n",
    "            expr += i\n",
    "        else:\n",
    "            expr += str(get_num(i))\n",
    "    return(eval(expr))\n",
    "\n",
    "def get_num(a):\n",
    "    nums ={'zero' : 0, 'one' : 1, 'two':2, 'three':3, 'four':4, 'five':5, 'six':6, 'seven':7, 'eight':8, 'nine':9}\n",
    "    new_a = \"\"\n",
    "    while not a.isdigit():\n",
    "        for i in nums.keys():\n",
    "            if i in a:\n",
    "                a = a.split(i)\n",
    "                a = (str(nums[i])).join(a)\n",
    "                break\n",
    "    return a\n"
   ]
  },
  {
   "cell_type": "markdown",
   "metadata": {},
   "source": [
    "**Тесты**:"
   ]
  },
  {
   "cell_type": "code",
   "execution_count": 64,
   "metadata": {},
   "outputs": [
    {
     "name": "stdout",
     "output_type": "stream",
     "text": [
      "46\n"
     ]
    }
   ],
   "source": [
    "print(calculate('-one + two + threefive - -onezero'))\n",
    "# assert calculate('-one + two + threefive - -onezero') == 46"
   ]
  },
  {
   "cell_type": "markdown",
   "metadata": {},
   "source": [
    "## Задача 5: Парсер\n",
    "\n",
    "Необходимо реализовать следующий алгоритм парсинга документов:\n",
    "\n",
    "- на вход алгоритму подается строка, которую необходимо распарсить, и пары специальных символов, которые поддерживаются парсером; например: \\</a>, \\<a>;  \n",
    "- строка состоит из специальных символов и строк, окруженных специальными символами;  \n",
    "- валидными считаются слова, которые заключены в правильную пару служебных символов, и служебные символы этой пары входят в список символов, поддерживаемых парсером; например, слово, заключенное в служебные символы: \\</a>word\\<a>, будет валидным, если \\</a> и \\<a> поддерживаются парсером - а слово, заключенное в служебные символы: \\</b>word\\<a> - не будет валидным ни в каком случае;  \n",
    "- парсер выделяет валидные слова, и сохраняет уникальные валидные слова в список;  \n",
    "\n",
    "Ваша задача - реализовать описанный алгоритм парсинга.\n",
    "\n",
    "**Вход:** \n",
    "\n",
    "- строка, состоящая из специальных символов следующего формата: \\<[ / ]english_letter>, - и из букв английского алфавита;  \n",
    "- список пар(кортежей) - валидных служебных конструкций;  \n",
    "\n",
    "**Выход**:\n",
    "\n",
    "- список уникальных валидных слов;  \n",
    "\n",
    "**Решение:**"
   ]
  },
  {
   "cell_type": "code",
   "execution_count": 65,
   "metadata": {},
   "outputs": [],
   "source": [
    "def parse(\n",
    "    string: str, valid_pairs: list[tuple[str, str]]) -> list[str]:\n",
    "    ans = []\n",
    "    for i in valid_pairs:\n",
    "        open = i[0]\n",
    "        close = i[1]\n",
    "        count = 0\n",
    "        spis = string.split(i[0])\n",
    "        # print(spis)\n",
    "        for j in spis:\n",
    "            if j[0] != \"<\":\n",
    "                n = j.split(\"<\")\n",
    "                # print(n)\n",
    "                if \"<\" + n[1] == close:\n",
    "                    ans.append(n[0])\n",
    "    return list(set(ans))\n",
    "\n",
    "    \n"
   ]
  },
  {
   "cell_type": "markdown",
   "metadata": {},
   "source": [
    "**Тесты:**"
   ]
  },
  {
   "cell_type": "code",
   "execution_count": 66,
   "metadata": {},
   "outputs": [],
   "source": [
    "string = (\n",
    "    \"</p><p><a>float</b></p><p><b>frozenset</b>\"\n",
    "    \"</p><p><c>list</c></p><p><b>list</b>\"\n",
    ")\n",
    "valid_pairs = [(\"<b>\", \"</b>\"), (\"<a>\", \"</a>\"), (\"<c>\", \"</c>\")]\n",
    "\n",
    "assert parse(string, valid_pairs) == [\"frozenset\", \"list\"]"
   ]
  },
  {
   "cell_type": "markdown",
   "metadata": {},
   "source": [
    "## Задача 6: Умная консоль\n",
    "\n",
    "**Условие**:\n",
    "\n",
    "Вы работаете с консолью, которая имеет некий набор команд. Консоль достаточно умная и умеет исправлять ошибки пользователя, если ошибка незначительная. Незначительными считаются ошибки одного из трёх типов:\n",
    "\n",
    "- ввод одного лишнего символа;  \n",
    "- пропуск одного символа;  \n",
    "- один неправильно введенный символ; \n",
    "\n",
    "Притом описанные ошибки не должны вызывать неоднозначность. Так, например комманда \"gt\" с набором команд [cd, ls, git] будет восстановлена до команды git, но та же команда с набором команд [cd, ls, git, get] может соответствовать как команде \"get\", так и команде \"git\" и восстановлена не будет.\n",
    "\n",
    "Если команда написана с незначительной ошибкой, то консоль её автоматически исправляет и выполняет. Реализуйте алгоритм check_comand, который проверяет, выполнит ли консоль с заданным набором команд команду пользователя или нет.\n",
    "\n",
    "**Вход**:\n",
    "\n",
    "- user_comand - строка, команда, введенная пользователем;  \n",
    "- comands - список строк, команды, поддерживаемые консолью;  \n",
    "\n",
    "**Выход**:\n",
    "\n",
    "- булево значение: True, если команда будет выполнена, False - иначе;\n",
    "\n",
    "**Решение:**"
   ]
  },
  {
   "cell_type": "code",
   "execution_count": 1,
   "metadata": {},
   "outputs": [],
   "source": [
    "def check_comand(user_comand: str, comands: list[str]) -> bool:\n",
    "    comands = list(set(comands))\n",
    "    fits_to = missing_letter(user_comand, comands) + extra_letter(user_comand, comands) + wrong_letter(user_comand, comands)\n",
    "    # fits_to = list(set(fits_to))\n",
    "    if len(fits_to) == 1:\n",
    "        return True\n",
    "    return False\n",
    "\n",
    "\n",
    "def missing_letter(user_comand, comands):\n",
    "    ans = []\n",
    "    for i in comands:\n",
    "        for j in range(len(i)):\n",
    "            not_full_comand = i[0:j] + i[j+1:]\n",
    "            if user_comand == not_full_comand:\n",
    "                ans.append(i)\n",
    "    return ans\n",
    "\n",
    "def extra_letter(user_comand, comands):\n",
    "    ans = []\n",
    "    for i in range(len(user_comand)):\n",
    "        not_full_user_comand = user_comand[0:i] + user_comand[i+1:]\n",
    "        if not_full_user_comand in comands:\n",
    "            ans.append(comands[comands.index(not_full_user_comand)])\n",
    "    return ans\n",
    "\n",
    "def wrong_letter(user_comand, comands):\n",
    "    ans = []\n",
    "\n",
    "    broken_user_comands = []\n",
    "    for i in range(len(user_comand)):\n",
    "        not_full_user_comand = user_comand[0:i] + user_comand[i+1:]\n",
    "        broken_user_comands.append(not_full_user_comand)\n",
    "\n",
    "    broken_comands = []\n",
    "    for i in comands:\n",
    "        for j in range(len(i)):\n",
    "            not_full_comand = i[0:j] + i[j+1:]\n",
    "            broken_comands.append(not_full_comand)\n",
    "    \n",
    "    # print(broken_user_comands)\n",
    "    # print()\n",
    "    # print(broken_comands)\n",
    "    # return ...\n",
    "\n",
    "    for i in broken_user_comands:\n",
    "        for j in broken_comands:\n",
    "            if i == j:\n",
    "                ans.append(j)\n",
    "    return ans"
   ]
  },
  {
   "cell_type": "markdown",
   "metadata": {},
   "source": [
    "**Тесты:**"
   ]
  },
  {
   "cell_type": "code",
   "execution_count": 2,
   "metadata": {},
   "outputs": [],
   "source": [
    "assert check_comand('gjt', ['cd', 'ls', 'git']) \n",
    "assert not check_comand('got', ['cd', 'ls', 'git', 'get'])"
   ]
  }
 ],
 "metadata": {
  "kernelspec": {
   "display_name": "Python 3",
   "language": "python",
   "name": "python3"
  },
  "language_info": {
   "codemirror_mode": {
    "name": "ipython",
    "version": 3
   },
   "file_extension": ".py",
   "mimetype": "text/x-python",
   "name": "python",
   "nbconvert_exporter": "python",
   "pygments_lexer": "ipython3",
   "version": "3.10.8"
  },
  "orig_nbformat": 4
 },
 "nbformat": 4,
 "nbformat_minor": 2
}
